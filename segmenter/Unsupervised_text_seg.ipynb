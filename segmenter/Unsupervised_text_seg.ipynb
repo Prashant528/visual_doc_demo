{
  "nbformat": 4,
  "nbformat_minor": 0,
  "metadata": {
    "colab": {
      "provenance": []
    },
    "kernelspec": {
      "name": "python3",
      "display_name": "Python 3"
    },
    "language_info": {
      "name": "python"
    }
  },
  "cells": [
    {
      "cell_type": "markdown",
      "source": [
        "### Implementation of: https://arxiv.org/pdf/2106.12978"
      ],
      "metadata": {
        "id": "PkpjGjCN2JFm"
      }
    },
    {
      "cell_type": "markdown",
      "source": [
        "First step: Upload the code files to content/\n",
        "Then, move to next steps on this notebook."
      ],
      "metadata": {
        "id": "QZP65u2n5w1-"
      }
    },
    {
      "cell_type": "code",
      "source": [
        "# import baselines as topic_segmentation_baselines\n",
        "import numpy as np\n",
        "import pandas as pd\n",
        "import torch\n",
        "\n",
        "#importing local variables and functions\n",
        "from data_types import (\n",
        "    TopicSegmentationAlgorithm,\n",
        "    TopicSegmentationConfig,\n",
        "    TextTilingHyperparameters,\n",
        ")\n",
        "from core import *\n",
        "\n",
        "\n",
        "\n",
        "# from transformers import RobertaConfig, RobertaModel\n",
        "# # pretrained roberta model\n",
        "# configuration = RobertaConfig()\n",
        "# roberta_model = RobertaModel(configuration)"
      ],
      "metadata": {
        "id": "QJjgWXlO28d8"
      },
      "execution_count": 2,
      "outputs": []
    },
    {
      "cell_type": "markdown",
      "source": [
        "## Decomposing topic_segmentation_bert() function"
      ],
      "metadata": {
        "id": "MBoHfZvi4Jkp"
      }
    },
    {
      "cell_type": "code",
      "source": [
        "\n",
        "\n",
        "def topic_segmentation_bert(\n",
        "    sentences: list,\n",
        "    topic_segmentation_configs: TopicSegmentationConfig,\n",
        "):\n",
        "    textiling_hyperparameters = TextTilingHyperparameters\n",
        "\n",
        "    # parallel inference\n",
        "    batches_features = []\n",
        "    # for batch_sentences in split_list(\n",
        "    #     df[caption_col_name], PARALLEL_INFERENCE_INSTANCES\n",
        "    # ):\n",
        "        # batches_features.append(get_features_from_sentence(batch_sentences))\n",
        "    features = get_features_from_sentence(sentences)\n",
        "\n",
        "    # meeting_id -> list of topic change start times\n",
        "    segments = {}\n",
        "    task_idx = 0\n",
        "    # print(\"meeting_id -> task_idx\")\n",
        "    # for meeting_id in set(df[meeting_id_col_name]):\n",
        "    # print(\"%s -> %d\" % (meeting_id, task_idx))\n",
        "    # task_idx += 1\n",
        "\n",
        "    # meeting_data = df[df[meeting_id_col_name] == meeting_id]\n",
        "    # caption_indexes = list(meeting_data.index)\n",
        "\n",
        "    # timeseries = get_timeseries(caption_indexes, features)\n",
        "\n",
        "    #get similarity scores of the two consecutive window.\n",
        "    #e.g. First element  = similarity of 1st and 2nd window\n",
        "    #e.g. Second element  = similarity of 2st and 3rd window\n",
        "    block_comparison_score_timeseries = block_comparison_score(\n",
        "        features, k=15\n",
        "    )\n",
        "\n",
        "    #smooth out the similiarity scores by averaging over a smoothing window.\n",
        "    block_comparison_score_timeseries = smooth(\n",
        "        block_comparison_score_timeseries,\n",
        "        n=2,\n",
        "        s=1,\n",
        "    )\n",
        "\n",
        "    #Finds the peaks around one single point, finds the difference between\n",
        "    #those peaks and the point. Then, finally adds them\n",
        "    depth_score_timeseries = depth_score(block_comparison_score_timeseries)\n",
        "\n",
        "    # meeting_start_time = meeting_data[start_col_name].iloc[0]\n",
        "    # meeting_end_time = meeting_data[end_col_name].iloc[-1]\n",
        "    # meeting_duration = meeting_end_time - meeting_start_time\n",
        "\n",
        "    #takes all local maximas\n",
        "    #filter by a threshold ( threshold is set at 0.6 of the highest score.)\n",
        "    #max_segment_count is set at 1 segment per minute i.e. 60 per hour.\n",
        "    #out of the filtered maximas, get the min(max_segment_count, no_of_filtered)\n",
        "    #then returns the maxima indices\n",
        "    #I am giving the meeting duration of 600 minutes for nos(to get 10 max topic ).\n",
        "    #Maybe I can tweak the max_count myself in the function.\n",
        "    meeting_duration = 600\n",
        "    segments = depth_score_to_topic_change_indexes(\n",
        "        depth_score_timeseries,\n",
        "        meeting_duration,\n",
        "        topic_segmentation_configs=topic_segmentation_configs,\n",
        "    )\n",
        "    print(segments)\n",
        "\n",
        "    return segments"
      ],
      "metadata": {
        "id": "M9kg7J1B5oZv"
      },
      "execution_count": 3,
      "outputs": []
    },
    {
      "cell_type": "code",
      "source": [
        "!pip install sentence_transformers"
      ],
      "metadata": {
        "id": "3mtWem7WIFkg"
      },
      "execution_count": null,
      "outputs": []
    },
    {
      "cell_type": "code",
      "source": [
        "from transformers import AutoTokenizer, AutoModel\n",
        "import torch\n",
        "import torch.nn.functional as F\n",
        "\n",
        "#Mean Pooling - Take attention mask into account for correct averaging\n",
        "def mean_pooling(model_output, attention_mask):\n",
        "    token_embeddings = model_output[0] #First element of model_output contains all token embeddings\n",
        "    input_mask_expanded = attention_mask.unsqueeze(-1).expand(token_embeddings.size()).float()\n",
        "    return torch.sum(token_embeddings * input_mask_expanded, 1) / torch.clamp(input_mask_expanded.sum(1), min=1e-9)\n",
        "\n",
        "\n",
        "def get_features_from_sentence(sentences):\n",
        "  batch_features = []\n",
        "  # Load model from HuggingFace Hub\n",
        "  tokenizer = AutoTokenizer.from_pretrained('sentence-transformers/all-roberta-large-v1')\n",
        "  model = AutoModel.from_pretrained('sentence-transformers/all-roberta-large-v1')\n",
        "\n",
        "  for sentence in sentences:\n",
        "    # Tokenize sentence\n",
        "    encoded_input = tokenizer(sentence, padding=True, truncation=True, return_tensors='pt')\n",
        "\n",
        "    # Compute token embeddings\n",
        "    with torch.no_grad():\n",
        "        model_output = model(**encoded_input)\n",
        "\n",
        "    # Perform pooling\n",
        "    sentence_embeddings = mean_pooling(model_output, encoded_input['attention_mask'])\n",
        "\n",
        "    # Normalize embeddings\n",
        "    sentence_embeddings = F.normalize(sentence_embeddings, p=2, dim=1)\n",
        "\n",
        "    batch_features.append(sentence_embeddings[0])\n",
        "    # print(\"Sentence embeddings:\")\n",
        "    # print(sentence_embeddings)\n",
        "  return batch_features\n"
      ],
      "metadata": {
        "id": "3Ya9sYsrK-Ou"
      },
      "execution_count": 5,
      "outputs": []
    },
    {
      "cell_type": "markdown",
      "source": [
        "### Creating the corpus"
      ],
      "metadata": {
        "id": "irmdcQeBdWSD"
      }
    },
    {
      "cell_type": "code",
      "source": [
        "#S for sentence level, P for paragraph level\n",
        "corpus_type = 'S'"
      ],
      "metadata": {
        "id": "9DWvEYPb4MFc"
      },
      "execution_count": 6,
      "outputs": []
    },
    {
      "cell_type": "code",
      "source": [
        "# Creating example documents\n",
        "\n",
        "#Title in MD file: Welcome (really don't expect it to give the same heading)\n",
        "doc_1 = \"We invite you to join the Flutter team, which is made up of volunteers and sponsored folk alike!\\nThere are many ways to contribute, including writing code, filing issues on GitHub, helping people\\non our mailing lists, our chat channels, or on Stack Overflow, helping to triage, reproduce, or\\nfix bugs that people have filed, adding to our documentation,\\ndoing outreach about Flutter, or helping out in any other way.\\n\\nWe grant commit access (which includes full rights to the issue\\ndatabase, such as being able to edit labels) to people who have gained\\nour trust and demonstrated a commitment to Flutter. For more details\\nsee the [Contributor access](https://github.com/flutter/flutter/wiki/Contributor-access)\\npage on our wiki.\\n\\nWe communicate primarily over GitHub and [Discord](https://github.com/flutter/flutter/wiki/Chat).\\n\\nBefore you get started, we encourage you to read these documents which describe some of our community norms:\\n\\n1. [Our code of conduct](CODE_OF_CONDUCT.md), which stipulates explicitly\\n   that everyone must be gracious, respectful, and professional. This\\n   also documents our conflict resolution policy and encourages people\\n   to ask questions.\\n\\n2. [Values](https://github.com/flutter/flutter/wiki/Values),\\n   which talks about what we care most about\"\n",
        "\n",
        "#Helping out in the issue database\n",
        "doc_2 = \"Welcome: Triage is the process of going through bug reports and determining if they are valid, finding out\\nhow to reproduce them, catching duplicate reports, and generally making our issues list\\nuseful for our engineers.\\n\\nIf you want to help us triage, you are very welcome to do so!\\n\\n1. Join the #hackers-triage [Discord channel](https://github.com/flutter/flutter/wiki/Chat).\\n\\n2. Read [our code of conduct](CODE_OF_CONDUCT.md), which stipulates explicitly\\n   that everyone must be gracious, respectful, and professional. If you\\'re helping out\\n   with triage, you are representing the Flutter team, and so you want to make sure to\\n   make a good impression!\\n\\n3. Help out as described in our wiki: https://github.com/flutter/flutter/wiki/Triage\\n   You won\\'t be able to add labels at first, so instead start by trying to\\n   do the other steps, e.g. trying to reproduce the problem and asking for people to\\n   provide enough details that you can reproduce the problem, pointing out duplicates,\\n   and so on. Chat on the #hackers-triage channel to let us know what you\\'re up to!\\n\\n4. Familiarize yourself with our\\n   [issue hygiene](https://github.com/flutter/flutter/wiki/Issue-hygiene) wiki page,\\n   which covers the meanings of some important GitHub labels and\\n   milestones.\\n\\n5. Once you\\'ve been doing this for a while, someone will invite you to the flutter-hackers\\n   team on GitHub and you\\'ll be able to add labels too. See the\\n   [contributor access](https://github.com/flutter/flutter/wiki/Contributor-access) wiki\\n   page for details.\"\n",
        "\n",
        "#Quality Assurance\n",
        "doc_3 = \"Quality Assurance: One of the most useful tasks, closely related to triage, is finding and filing bug reports. Testing\\nbeta releases, looking for regressions, creating test cases, adding to our test suites, and\\nother work along these lines can really drive the quality of the product up. Creating tests\\nthat increase our test coverage, writing tests for issues others have filed, all these tasks\\nare really valuable contributions to open source projects.\\n\\nIf this interests you, you can jump in and submit bug reports without needing anyone\\'s permission!\\nThe #quality-assurance channel on our [Discord server](https://github.com/flutter/flutter/wiki/Chat)\\nis a good place to talk about what you\\'re doing. We\\'re especially eager for QA testing when\\nwe announce a beta release. See https://github.com/flutter/flutter/wiki/Quality-Assurance for\\nmore details.\\n\\nIf you want to contribute test cases, you can also submit PRs. See the next section\\nfor how to set up your development environment, or ask in #hackers-test on Discord.\\n\\n> As a personal side note, this is exactly the kind of work that first got me into open\\n> source. I was a Quality Assurance volunteer on the Mozilla project, writing test cases for\\n> browsers, long before I wrote a line of code for any open source project.\"\n",
        "\n",
        "#Developing for flutter\n",
        "doc_4 = \"Developing for flutter: If you would prefer to write code, you may wish to start with our list of good first issues for [Flutter](https://github.com/flutter/flutter/issues?q=is%3Aopen+is%3Aissue+label%3A%22good+first+issue%22) or for [Flutter DevTools](https://github.com/flutter/devtools/labels/good%20first%20issue). See the respective sections below for further instructions.\\n\\n### Framework and Engine\\n\\nTo develop for Flutter, you will eventually need to become familiar\\nwith our processes and conventions. This section lists the documents\\nthat describe these methodologies. The following list is ordered: you\\nare strongly recommended to go through these documents in the order\\npresented.\\n\\n1. [Setting up your engine development environment](https://github.com/flutter/flutter/wiki/Setting-up-the-Engine-development-environment),\\n   which describes the steps you need to configure your computer to\\n   work on Flutter\\'s engine. If you only want to write code for the\\n   Flutter framework, you can skip this step. Flutter\\'s engine mainly\\n   uses C++, Java, and Objective-C.\\n\\n2. [Setting up your framework development environment](https://github.com/flutter/flutter/wiki/Setting-up-the-Framework-development-environment),\\n   which describes the steps you need to configure your computer to\\n   work on Flutter\\'s framework. Flutter\\'s framework mainly uses Dart.\\n\\n3. [Tree hygiene](https://github.com/flutter/flutter/wiki/Tree-hygiene),\\n   which covers how to land a PR, how to do code review, how to\\n   handle breaking changes, how to handle regressions, and how to\\n   handle post-commit test failures.\\n\\n4. [Our style guide](https://github.com/flutter/flutter/wiki/Style-guide-for-Flutter-repo),\\n   which includes advice for designing APIs for Flutter, and how to\\n   format code in the framework.\\n\\n5. [Flutter design doc template](https://flutter.dev/go/template),\\n   which should be used when proposing a new technical design.  This is a good\\n   practice to do before coding more intricate changes.\\n   See also our [guidance for writing design docs](https://github.com/flutter/flutter/wiki/Design-Documents).\\n\\n[![How to contribute to Flutter](https://img.youtube.com/vi/4yBgOBAOx_A/0.jpg)](https://www.youtube.com/watch?v=4yBgOBAOx_A)\\n\\nIn addition to the documents, there is a video linked above on **How to contribute to Flutter**\\nfrom the [Flutter](https://youtube.com/c/flutterdev) YouTube channel,\\nthere are many pages on [our Wiki](https://github.com/flutter/flutter/wiki/),\\nand an article [Contributing to Flutter: Getting Started](https://medium.com/@ayushbherwani/contributing-to-flutter-getting-started-a0db68cbcd5b)\\non Medium that may be of interest. For a curated list of pages see the sidebar\\non the wiki\\'s home page. They are more or less listed in order of importance.\\n\\n### DevTools\\n\\nContributing code to Dart & Flutter DevTools may be a good place to start if you are\\nlooking to dip your toes into contributing with a relatively low-cost setup or if you\\nare generally excited about improving the Dart & Flutter developer experience.\\n\\nPlease see the DevTools [CONTRIBUTING.md](https://github.com/flutter/devtools/blob/master/CONTRIBUTING.md)\\nguide to get started.\"\n",
        "\n",
        "#Outreach\n",
        "doc_5 = \"Outreach: If your interests lie in the direction of developer relations and developer outreach,\\nwhether advocating for Flutter, answering questions in fora like\\n[Stack Overflow](https://stackoverflow.com/questions/tagged/flutter?sort=Newest&filters=NoAnswers,NoAcceptedAnswer&edited=true)\\nor [Reddit](https://www.reddit.com/r/flutterhelp/new/?f=flair_name%3A%22OPEN%22),\\nor creating content for our [documentation](https://docs.flutter.dev/)\\nor sites like [YouTube](https://www.youtube.com/results?search_query=flutter&sp=EgQIAxAB),\\nthe best starting point is to join the #hackers-devrel [Discord channel](https://github.com/flutter/flutter/wiki/Chat).\\nFrom there, you can describe what you\\'re interested in doing, and go ahead and do it!\\nAs others become familiar with your work, they may have feedback, be interested in\\ncollaborating, or want to coordinate their efforts with yours\"\n",
        "\n",
        "#API documentation\n",
        "doc_6 = '''API documentation: Another great area to contribute in is sample code and API documentation. If this is an area that interests you, join our\\n[Discord](https://github.com/flutter/flutter/wiki/Chat) server and introduce yourself on the #hackers-deverl, #hackers-framework,\\nor #hackers-engine channels, describing your area of interest. As our API docs are integrated into our source code, see the\\n\"developing for Flutter\" section above for a guide on how to set up your developer environment.\\n\\nTo contribute API documentation, an excellent command of the English language is particularly helpful, as is a careful attention to detail.\\nWe have a [whole section in our style guide](https://github.com/flutter/flutter/wiki/Style-guide-for-Flutter-repo#documentation-dartdocs-javadocs-etc)\\nthat you should read before you write API documentation. It includes notes on the \"Flutter Voice\", such as our word and grammar conventions.\\n\\nIn general, a really productive way to improve documentation is to use Flutter and stop any time you have a question: find the answer, then\\ndocument the answer where you first looked for it.\\n\\nWe also keep [a list of areas that need better API documentation](https://github.com/flutter/flutter/issues?q=is%3Aopen+is%3Aissue+label%3A%22d%3A+api+docs%22+sort%3Areactions-%2B1-desc).\\nIn many cases, we have written down what needs to be said in the relevant issue, we just haven\\'t gotten around to doing it!\\n\\nWe\\'re especially eager to add sample code and diagrams to our API documentation. Diagrams are generated from Flutter code that\\ndraws to a canvas, and stored in a [special repository](https://github.com/flutter/assets-for-api-docs/#readme). It can be a lot of fun\\nto create new diagrams for the API docs.\\n\\n'''\n",
        "\n",
        "#Releases\n",
        "doc_7 = \"Releases: If you are interested in participating in our release process, which may involve writing release notes and blog posts, coordinating the actual\\ngeneration of binaries, updating our release tooling, and other work of that nature, then reach out on the #hackers-releases\\nchannel of our [Discord](https://github.com/flutter/flutter/wiki/Chat) server.\\n\\n\\nSocial events in the contributor community\"\n",
        "\n",
        "#Social events\n",
        "doc_8 = \"Social events: Finally, one area where you could have a lot of impact is in contributing to social interactions among the Flutter contributor community itself.\\nThis could take the form of organizing weekly video chats on our Discord, or planning tech talks from contributors, for example.\\nIf this is an area that is of interest to you, please join our [Discord](https://github.com/flutter/flutter/wiki/Chat) and ping Hixie on the #hackers\\nchannel!\\n'\"\n",
        "\n",
        "\n",
        "##New file: https://github.com/flutter/flutter/wiki/Contributor-access\n",
        "# Each doc can be concatenated within itself to get the sub topics(heading is the first paragraph. eg. doc_9[0]).\n",
        "doc_9 = '''Contributor access. For people who make the occasional contribution to Flutter (filing an issue, submitting the occasional PR, chatting on Discord), the default set of permissions is fine. However, if you are a frequent contributor, whether helping us in triage, or often fixing bugs, or regularly improving our documentation, or regularly helping others in our #help channel, or participating in high-level design discussions and prioritization, you may find your life is more pleasant with commit access (also known as \"contributor access\", \"being a member of the flutter-hackers group\", \"being a member of the Flutter team\").\n",
        "\n",
        "We grant commit access (which includes full rights to the issue database, such as being able to edit labels, and grants access to our internal chat channels) to people who have gained our trust and demonstrated a commitment to Flutter.\n",
        "\n",
        "Specifically, if you meet one of the following criteria and you have a sponsor (someone who already has contributor access and agrees that you should be granted access), then please ask your sponsor to propose, on the #server-support chat channel, that you be made a member of the team, and then reply to that message explaining which criteria below you are claiming to meet. The possible criteria are:\n",
        "\n",
        "You have a long history of participating productively, e.g. in our chat channels, helping with Triage, helping other contributors track down problems, finding meaningful issues in submitted PRs, helping people in our #help channel, etc, all while demonstrating exemplary behavior that closely aligns with our code of conduct.\n",
        "You have recently submitted several PRs that have landed successfully (received an LGTM, PR was merged, no regressions reported, PR was not reverted), without needing extensive tutoring in the process.\n",
        "You are employed by a company with a history of contributing to Flutter, for the purpose of yourself regularly contributing to Flutter.\n",
        "You represent a development team that creates applications, plugins, or packages using Flutter and have a close relationship with our developer relations team, including having a customer label, and have a great need to regularly update labels on issues (see Issue hygiene, Customers). (This is rare.)\n",
        "Being granted access means that you will be added to the \"flutter-hackers\" group on GitHub and the \"team\" role on Discord. This privilege is granted with some expectation of responsibility: contributors are people who care about Flutter and want to help Flutter along our roadmap. A contributor is not just someone who can make changes or comment on issues, but someone who has demonstrated their ability to collaborate with the team, get the most knowledgeable people to review code, contribute high-quality code, follow through to fix bugs (in code or tests), and provide meaningful insights on issues.\n",
        "\n",
        "We grant access optimistically based on a reasonably small volume of evidence of good faith. Correspondingly, we will remove access quickly if we find our trust has been violated. Contributors with commit access must still follow all our processes and policies, and must follow our code of conduct rigorously. (Please read it, it's stricter than most.)'''\n",
        "\n",
        "doc_10 = '''Responsibilities\n",
        "Code of conduct\n",
        "If you have commit access or \"team\" access on the Discord server, you are responsible for enforcing our code of conduct.\n",
        "\n",
        "Our code of conduct is much, much stricter than most. We do not wait until someone has been actively rude or insulting. Being disrespectful in any way is grounds for action. For example, passive-aggressive whining and general unconstructive negativity are all violations of the code of conduct. If someone is in a bad mood, we would rather they avoided contributing to Flutter on that day.\n",
        "\n",
        "When you see something that might be described as unwelcoming or is in some other way a violation of our code of conduct, promptly contact the offender and ask them to read the code of conduct and consider how they might more effectively espouse its philosophy. Most people react very positively to this.\n",
        "\n",
        "If they react negatively, or if they continue to make the environment unpleasant, they should be removed from the environment. On Discord, this would be kicking them from the channel. Repeat offenders should be banned. On GitHub, they can be blocked from our organisation (you may need to ask @Hixie or another admin of our GitHub org to do this). Please let the #server-support chat channel know when you do anything like this, so that we can keep an eye on how common it is.\n",
        "\n",
        "'''\n",
        "\n",
        "doc_11 = '''Maintaining documentation\n",
        "Part of being a contributor is making sure our documentation is up to date, including our internal (team-facing) documentation such as this wiki. If you spot something wrong, please fix it! As a contributor, you have access to the wiki.\n",
        "\n",
        "For the wiki specifically, since there's no code review, it's good to mention on Discord that you've made a change when you make one.\n",
        "'''\n",
        "\n",
        "doc_12 = '''\n",
        "Privileges\n",
        "Being in the GitHub \"flutter-hackers\" group gives you the following:\n",
        "\n",
        "The ability to merge your own PRs once they are reviewed (see Tree Hygiene).\n",
        "\n",
        "The ability to add labels, milestones, etc, on issues on GitHub (see Issue Hygiene).\n",
        "\n",
        "PRs will run their tests slightly faster.\n",
        "\n",
        "Being in the Discord \"team\" group gives you the following:\n",
        "\n",
        "The ability to talk without rate-limiting on the #hackers-* channels.\n",
        "\n",
        "The ability to kick people.\n",
        "\n",
        "The ability to manage the server emoji.\n",
        "'''\n",
        "\n",
        "doc_13 = '''\n",
        "Process\n",
        "The actual process (as followed by Flutter repo admins) is as follows:\n",
        "\n",
        "Verify that they qualify under all the terms described above. Make sure they have a sponsor who isn't you.\n",
        "Verify the identity of the person making the request. Ask them to confirm, on Discord, that they have read the style guide, issue or tree hygiene wiki page, code of conduct, and other documents relevant to them.\n",
        "Add them to our private spreadsheet (go/flutter-organization-members).\n",
        "Click the \"Add a member\" button on the flutter-hackers team page on GitHub.\n",
        "Type their name in the text field, select them, then click the \"Invite\" button.\n",
        "Add them to the \"team\" group on Discord. Be sure to verify that you are promoting the right person; multiple people can have the same nickname on Discord!\n",
        "For new Googlers joining the team: You need to ask someone in the team to add you to get added. It's not an automatic process after you join the flutter Google group.\n",
        "'''\n",
        "\n",
        "doc_14 = '''Inactivity\n",
        "We occasionally check for account with commit access that have not been used for a while. It takes very little to count as \"active\" (e.g. commenting on an issue, even adding an emoji reaction to an issue). If your account has been inactive for over a year we will try to reach out (e.g. by e-mail or on Discord) before removing access.\n",
        "\n",
        "If your account access was removed but you wish to return to contributing to Flutter, you are most welcome to do so; just reach out on the Discord (see Chat) and ask someone to renominate you according to the process described above.\n",
        "'''\n",
        "\n",
        "doc_15 = '''\n",
        "Access rights to Flutter dashboard\n",
        "The Flutter dashboard shows what recently landed and what tests passed or failed with those commits. To see rerun tasks, you need to be added to an allowlist. Anyone with commit access is eligible to be added to that allowlist, but only certain team members have the permissions required to update the backend database where the permissions are stored. To get access, ask on #hackers-infra to be added to the allowlist.\n",
        "'''\n",
        "\n",
        "doc_16 = '''\n",
        "Adding a contributor to Flutter Dashboard\n",
        "This is only for team members with access to the Flutter Dashboard Datastore.\n",
        "\n",
        "Open flutter-dashboard datastore\n",
        "Click Create Entity\n",
        "Click Email: Empty -> Edit property. Insert contributor Google account\n",
        "Click Create\n",
        "'''\n",
        "\n",
        "doc_17 = '''\n",
        "Access to LUCI recipes and configuration repositories\n",
        "If you need access to the LUCI recipes, you need to be added to the relevant ACLs. Ask in #hackers-infra to be added to the LUCI ACLs.\n",
        "'''\n",
        "\n",
        "doc_18 = '''\n",
        "Process\n",
        "A Googler has to be the one to grant permission. Documentation on how to use the relevant tools is available at: https://goto.google.com/gob-ctl#add-or-remove-users-in-host-acl\n",
        "'''\n",
        "\n",
        "doc_19 = '''\n",
        "Access to Flutter Gold\n",
        "If you need access to triage images in Flutter Gold, you need to be added as an authorized user. Users in the @google.com domain are already authorized to use Flutter Gold, but @gmail.com addresses can also be added to the allow list.\n",
        "'''\n",
        "\n",
        "doc_20 = '''\n",
        "Process\n",
        "The list of authorized users is maintained in the skia build-bot repository, in this file. Googlers can submit a change to add to the authorized users.\n",
        "\n",
        "This repository is also mirrored on GitHub.\n",
        "'''\n",
        "\n",
        "doc_21 = '''\n",
        "fcontrib.org accounts\n",
        "If you are a team member who wants to share design docs (see Chat) but you don't want to use your own personal account, you can ask a Flutter admin for an fcontrib.org account. Ping @Hixie or another admin in the #server-support channel on Discord.\n",
        "'''\n",
        "\n",
        "doc_22  = '''\n",
        "Process\n",
        "You’ll need the user’s email account somewhere else, first and last name, and desired fcontrib.org account login before you begin.\n",
        "\n",
        "To add a fcontrib.org participant:\n",
        "\n",
        "Open an incognito window and log in using your admin fcontrib credentials at https://admin.google.com/. (q.v. valentine)\n",
        "Under “Users” in the upper left of the main content area, click “Add a User” and follow the prompts.\n",
        "For a password, choose “Generate Password” and email the password to the new account holder using their non-fcontrib account -- they’ll be able to log in with that and then choose a new password.\n",
        "'''\n",
        "\n",
        "doc_23 = '''\n",
        "Review teams\n",
        "Some parts of the codebase have teams specified so that PRs get round-robin assigned for review.\n",
        "\n",
        "To join one of these teams, request members be added/deleted, or change any settings, ping @Hixie on Discord. Members must be a member of the Flutter Hackers group (as documented at the top of this page).\n",
        "\n",
        "We currently have the following review teams:\n",
        "\n",
        "android-reviewers: for folks working on the Android port of Flutter; use #hackers-android for discussions.\n",
        "devtools-reviewers: for the devtools repo; use #hackers-devexp for discussions.\n",
        "website-reviewers: for folks working on www.flutter.dev and docs.flutter.dev; use #hackers-devrel for discussions.\n",
        "To create a new team, contact @Hixie. You will also need to create a CODEOWNERS file to actually trigger the review assignment.\n",
        "\n",
        "'''\n",
        "\n",
        "doc_24 = '''\n",
        "Pusher permissions\n",
        "Some branches are protected to avoid accidents. Only people in the specific branches can push to them. Anyone can ask to be added or removed from these groups, they exist only to reduce accidents, not for security.\n",
        "\n",
        "To join one of these teams, request members be added/deleted, or change any settings, ping @Hixie on Discord. Members must be a member of the Flutter Hackers group (as documented at the top of this page).\n",
        "\n",
        "The following groups have been defined for these purposes: pushers-beta, pushers-fuchsia\n",
        "'''\n",
        "# Create corpus\n",
        "corpus = [doc_1, doc_2, doc_3, doc_4, doc_5, doc_6, doc_7, doc_8, doc_9, doc_10, doc_11, doc_12, doc_13, doc_14, doc_15, doc_16, doc_17, doc_18, doc_19, doc_20, doc_21, doc_22, doc_23, doc_24]\n",
        "\n"
      ],
      "metadata": {
        "id": "m4uLimCV2POt"
      },
      "execution_count": 35,
      "outputs": []
    },
    {
      "cell_type": "markdown",
      "source": [
        "Convert the paragraphs to sentences. We can do this for whole document as well (for our actual documents)."
      ],
      "metadata": {
        "id": "lMhzfJSZ4qTx"
      }
    },
    {
      "cell_type": "code",
      "source": [
        "from nltk.tokenize import sent_tokenize\n",
        "import nltk\n",
        "nltk.download('punkt')\n",
        "\n",
        "def generate_sentences(para):\n",
        "  '''\n",
        "  returns a list of sentences given a a paragraph\n",
        "  '''\n",
        "  sentences = sent_tokenize(para)\n",
        "  return sentences\n",
        "\n",
        "sent_corpus = []\n",
        "\n",
        "#this is a ground truth data. It contains the indices where there are actual segments.\n",
        "#I'm leaving the 0th index since our code does that below.\n",
        "#We may need to change that later on.\n",
        "section_indices_ground= []\n",
        "\n",
        "for doc in corpus:\n",
        "  #keep on adding new sentences from new segments\n",
        "  sent_corpus = sent_corpus + generate_sentences(doc)\n",
        "  # print(len(sent_corpus))\n",
        "  section_indices_ground.append(len(sent_corpus)-1)\n",
        "\n",
        "if corpus_type=='S':\n",
        "  corpus = sent_corpus\n",
        "\n",
        "print(corpus)"
      ],
      "metadata": {
        "id": "iELje3zh4d1t"
      },
      "execution_count": null,
      "outputs": []
    },
    {
      "cell_type": "markdown",
      "source": [
        "#### First try with the sections but I don't expect good results since the paper worked on sentence level.\n",
        "#### After that try the sentence level decomposition. (Maybe the code has something.)\n"
      ],
      "metadata": {
        "id": "Th880APkfdUV"
      }
    },
    {
      "cell_type": "markdown",
      "source": [
        "# PROCESSING"
      ],
      "metadata": {
        "id": "RjBReYaCfxR6"
      }
    },
    {
      "cell_type": "markdown",
      "source": [
        "Unpacking topic_segmentation_bert() function\n",
        "\n"
      ],
      "metadata": {
        "id": "VujRvnIXRf8C"
      }
    },
    {
      "cell_type": "code",
      "source": [
        "\n",
        "textiling_hyperparameters = TextTilingHyperparameters\n",
        "\n",
        "# parallel inference\n",
        "batches_features = []\n",
        "# for batch_sentences in split_list(\n",
        "#     df[caption_col_name], PARALLEL_INFERENCE_INSTANCES\n",
        "# ):\n",
        "    # batches_features.append(get_features_from_sentence(batch_sentences))\n",
        "features = get_features_from_sentence(corpus)\n",
        "\n",
        "print(features)\n"
      ],
      "metadata": {
        "id": "6qqy0rYvtMSG"
      },
      "execution_count": null,
      "outputs": []
    },
    {
      "cell_type": "code",
      "source": [
        "print(len(features[0]))\n",
        "print(len(features))\n"
      ],
      "metadata": {
        "colab": {
          "base_uri": "https://localhost:8080/"
        },
        "id": "6O9pubIUtrZE",
        "outputId": "b3fc1ef2-3b23-4e3f-c073-5beb608e961a"
      },
      "execution_count": 10,
      "outputs": [
        {
          "output_type": "stream",
          "name": "stdout",
          "text": [
            "1024\n",
            "177\n"
          ]
        }
      ]
    },
    {
      "cell_type": "code",
      "source": [
        "segments = {}\n",
        "task_idx = 0\n",
        "# print(\"meeting_id -> task_idx\")\n",
        "# for meeting_id in set(df[meeting_id_col_name]):\n",
        "# print(\"%s -> %d\" % (meeting_id, task_idx))\n",
        "# task_idx += 1\n",
        "\n",
        "# meeting_data = df[df[meeting_id_col_name] == meeting_id]\n",
        "# caption_indexes = list(meeting_data.index)\n",
        "\n",
        "# timeseries = get_timeseries(caption_indexes, features)\n",
        "\n",
        "#get similarity scores of the two consecutive window.\n",
        "#e.g. First element  = similarity of 1st and 2nd window\n",
        "#e.g. Second element  = similarity of 2st and 3rd window\n",
        "#default k was 15. I modified it for small corpus size\n",
        "# block_comparison_score_timeseries = block_comparison_score(\n",
        "#     features, k=5\n",
        "# )\n",
        "\n",
        "#unpacking block_comparison_score() function\n",
        "res = []\n",
        "k=5\n",
        "for i in range(k, len(features) - k):\n",
        "\n",
        "    #unpacking compute_window function for first window features\n",
        "    stack = torch.stack([features for features in features[i-k:i+1]])\n",
        "    stack = stack.unsqueeze(\n",
        "        0\n",
        "    )\n",
        "    stack_size = i+1 - (i-k)\n",
        "    pooling = torch.nn.MaxPool2d((stack_size - 1, 1))\n",
        "    first_window_features = pooling(stack)\n",
        "    #end of compute_window_function (the stack size varies)\n",
        "\n",
        "    #unpacking compute_window function for second window features\n",
        "    stack = torch.stack([features for features in features[i+1:i+k+2]])\n",
        "    stack = stack.unsqueeze(\n",
        "        0\n",
        "    )\n",
        "    stack_size = i+k+2 - (i+1)\n",
        "    pooling = torch.nn.MaxPool2d((stack_size - 1, 1))\n",
        "    second_window_features = pooling(stack)\n",
        "    #end of compute_window_function (the stack size varies)\n",
        "\n",
        "    # print(first_window_features)\n",
        "    # first_window_features = compute_window(features, i - k, i + 1)\n",
        "    # second_window_features = compute_window(features, i + 1, i + k + 2)\n",
        "    # first_window_features = features[i - k:i + 1]\n",
        "    # print(first_window_features)\n",
        "    # second_window_features = features[i + 1:i + k + 2]\n",
        "    # print(second_window_features)\n",
        "    res.append(\n",
        "        sentences_similarity(first_window_features[0], second_window_features[0])\n",
        "    )\n",
        "\n",
        "#end of block_comparison_score() function unpacking, equivalent returned result = res"
      ],
      "metadata": {
        "id": "zvewKCultjxX"
      },
      "execution_count": 11,
      "outputs": []
    },
    {
      "cell_type": "code",
      "source": [
        "block_comparison_score_timeseries = res"
      ],
      "metadata": {
        "id": "tVPH_gjQRR0x"
      },
      "execution_count": 12,
      "outputs": []
    },
    {
      "cell_type": "code",
      "source": [
        "#smooth out the similiarity scores by averaging over a smoothing window.\n",
        "block_comparison_score_timeseries = smooth(\n",
        "    block_comparison_score_timeseries,\n",
        "    n=2,\n",
        "    s=1,\n",
        ")\n",
        "\n",
        "#Finds the peaks around one single point, finds the difference between\n",
        "#those peaks and the point. Then, finally adds them\n",
        "# depth_score_timeseries = depth_score(block_comparison_score_timeseries)\n",
        "\n",
        "timeseries = block_comparison_score_timeseries\n",
        "#unpacking depth_score() function to help in visualization\n",
        "depth_scores = []\n",
        "for i in range(1, len(timeseries) - 1):\n",
        "    left, right = i - 1, i + 1\n",
        "    while left > 0 and timeseries[left - 1] > timeseries[left]:\n",
        "        left -= 1\n",
        "    while (\n",
        "        right < (len(timeseries) - 1) and timeseries[right + 1] > timeseries[right]\n",
        "    ):\n",
        "        right += 1\n",
        "    depth_scores.append(\n",
        "        (timeseries[right] - timeseries[i]) + (timeseries[left] - timeseries[i])\n",
        "    )\n",
        "depth_score_timeseries = depth_scores\n",
        "#end of unpacking depth_score() function\n",
        "\n"
      ],
      "metadata": {
        "id": "ABxYwlE-uNoz"
      },
      "execution_count": 13,
      "outputs": []
    },
    {
      "cell_type": "code",
      "source": [
        "import matplotlib.pyplot as plt\n",
        "\n",
        "TOPIC_CHANGE_THRESHOLD = 0.05\n",
        "\n",
        "n = len(depth_score_timeseries)\n",
        "print(\"Length of depth score timeseries (should be actual length-2*window size+1?) = \", n)\n",
        "threshold = TOPIC_CHANGE_THRESHOLD * max(depth_score_timeseries)\n",
        "# Plot filtered scores\n",
        "plt.xlim(0, n-1)\n",
        "plt.ylim(0, 1.1)\n",
        "plt.plot(depth_score_timeseries)\n",
        "\n",
        "# Plot threshold metadata\n",
        "plt.plot(np.repeat(threshold, len(depth_score_timeseries)), c='orange')\n",
        "# plt.plot(segment_ids, filtered_scores[segment_ids], 'o', c='red')"
      ],
      "metadata": {
        "colab": {
          "base_uri": "https://localhost:8080/",
          "height": 466
        },
        "id": "OWzbskAn7WTj",
        "outputId": "f5df082a-7e47-4f96-f045-a014e74fa8c5"
      },
      "execution_count": 40,
      "outputs": [
        {
          "output_type": "stream",
          "name": "stdout",
          "text": [
            "Length of depth score timeseries (should be actual length-2*window size+1?) =  165\n"
          ]
        },
        {
          "output_type": "execute_result",
          "data": {
            "text/plain": [
              "[<matplotlib.lines.Line2D at 0x7daf6766feb0>]"
            ]
          },
          "metadata": {},
          "execution_count": 40
        },
        {
          "output_type": "display_data",
          "data": {
            "text/plain": [
              "<Figure size 640x480 with 1 Axes>"
            ],
            "image/png": "[encoded data removed]"
          },
          "metadata": {}
        }
      ]
    },
    {
      "cell_type": "code",
      "source": [
        "#unpacking depth_score_to_topic_change_indexes\n",
        "\n",
        "#capped: add a max segment limit so there are not too many segments, used for UI improvements on the Workplace TeamWork product\n",
        "\n",
        "capped = False\n",
        "average_segment_length = 60 #we won't be using this\n",
        "meeting_duration = 600\n",
        "\n",
        "print(\"DEPTH_SCORE_TIMESERIES:\")\n",
        "print(list(depth_score_timeseries))\n",
        "\n",
        "if depth_score_timeseries == []:\n",
        "    print(\"Empty depth score series.\")\n",
        "\n",
        "local_maxima_indices, local_maxima = get_local_maxima(depth_score_timeseries)\n",
        "print(f\"Local maxima: {local_maxima}\")\n",
        "print(f\"Number of local maxima : {len(local_maxima)}\")\n",
        "\n",
        "if local_maxima == []:\n",
        "    print(\"No local maxima found\")\n",
        "\n",
        "if capped:  # capped is segmentation used for UI\n",
        "    # sort based on maxima for pruning\n",
        "    local_maxima, local_maxima_indices = arsort2(local_maxima, local_maxima_indices)\n",
        "\n",
        "    # local maxima are sorted by depth_score value and we take only the first K\n",
        "    # where the K+1th local maxima is lower then the threshold\n",
        "    for thres in range(len(local_maxima)):\n",
        "        if local_maxima[thres] <= threshold:\n",
        "            break\n",
        "\n",
        "    max_segments = int(meeting_duration / average_segment_length)\n",
        "    slice_length = min(max_segments, thres)\n",
        "\n",
        "    local_maxima_indices = local_maxima_indices[:slice_length]\n",
        "    local_maxima = local_maxima[:slice_length]\n",
        "\n",
        "    # after pruning, sort again based on indices for chronological ordering\n",
        "    local_maxima_indices, _ = arsort2(local_maxima_indices, local_maxima)\n",
        "\n",
        "else:  # this is the vanilla TextTiling used for Pk optimization\n",
        "    filtered_local_maxima_indices = []\n",
        "    filtered_local_maxima = []\n",
        "\n",
        "    for i, m in enumerate(local_maxima):\n",
        "        if m > threshold:\n",
        "            filtered_local_maxima.append(m)\n",
        "            filtered_local_maxima_indices.append(i)\n",
        "\n",
        "    local_maxima = filtered_local_maxima\n",
        "    local_maxima_indices = filtered_local_maxima_indices\n",
        "\n",
        "print(\"Filtered LOCAL_MAXIMA_INDICES:\")\n",
        "print(list(local_maxima_indices))\n",
        "print(\"Filtered LOCAL_MAXIMA_VALUES:\")\n",
        "print(list(local_maxima))\n",
        "\n",
        "segments = local_maxima_indices"
      ],
      "metadata": {
        "colab": {
          "base_uri": "https://localhost:8080/"
        },
        "id": "ut8xzj7j9frA",
        "outputId": "6c22ae83-1d56-4497-85b9-5846a437f58b"
      },
      "execution_count": 41,
      "outputs": [
        {
          "output_type": "stream",
          "name": "stdout",
          "text": [
            "DEPTH_SCORE_TIMESERIES:\n",
            "[0.11666322266682982, 0.1156111410818994, 0.10177714144811034, 0.06587273394688964, 0.020977383013814688, -0.005462194327265024, -0.009111920837312937, -0.003955085441702977, 0.00820576338446699, -0.0005092675855848938, -0.0002654340642038733, -0.001470779490773566, -0.0017954721479327418, -0.0021917157610005233, 0.0074159729683742626, 0.009408167933543155, -0.004237545516389218, 0.0033264058963595744, 0.024353736483931243, 0.1182686544602709, 0.1624113676651766, 0.1562593392896381, 0.0434110156952463, 0.02118209186743547, 0.003154832264092189, -0.0006313807838105312, -0.00494547896692632, -0.005417339745682925, -0.004110293796408926, -0.004363586628775451, 0.0020632895724203015, 0.02778628362415625, 0.065780982752362, 0.07429704576644769, 0.06502038206179661, 0.06925262374879959, 0.09057446068909769, 0.07287659519177181, 0.016998092697950162, -0.0024639033227195073, -0.01428770981808547, -0.012777859943634229, 0.03432945578272106, 0.03110491753757072, -0.004953300763958279, -0.011119600270236063, -0.011216687343116538, 0.02018433735725811, 0.027812496467660597, 0.03948166014611054, 0.0768590815856326, 0.08258828229287951, 0.06491974257361999, 0.002774175486295216, -0.002432602058933475, 0.0025093611505687674, -0.002254886260030564, -0.0077167947832115225, 0.006591865704441813, 0.008284562462800626, 0.003143470113518676, 0.013825279216289621, 0.016288596217010953, 0.006300127462700811, -0.0064070574775361155, -2.91303915656016e-07, -0.006229204077259909, -0.003765720431577746, 0.014674040432022362, 0.0048461882834863745, 0.04509869101140507, 0.07449433447341436, 0.06551450984749341, -0.009402010272377748, -0.01082459630330268, 0.028206202725542084, 0.038292022362579115, 0.025608576041129094, -0.005855507541890237, -0.008352550955163518, 0.008604133272008596, 0.01824559977793805, 0.01335848000821338, 0.005914019804870052, 0.0029808939057651695, 0.0037501607863822395, -0.001235912093118019, -0.005194694386900567, -0.010487778112125534, 0.0011405821736307775, 0.026376758618412044, 0.027387766950677683, 0.04771504946055094, 0.060462827939955055, 0.1135181158898162, 0.12070884737501753, 0.11866423912340829, 0.03027500092434554, 0.016871286298282828, -0.00021113713489606667, -0.002090009879393895, -0.010391395111574497, 0.0012850437443822083, -0.0019061188247777583, -0.0013783533350897326, 0.01900878309721954, 0.06627279083755833, 0.07735616453516225, 0.06188389783467241, -0.009578865471808085, 0.016952268898866585, 0.02628726794079317, 0.01709129901750217, 0.005958059058023046, 0.0018811855118264775, -0.009334991614649235, -0.0037291756030415346, 0.007296245442615978, 0.014392984117203689, 0.050567366416492954, 0.0454356995875822, 0.03422826967096482, 0.006765013336035963, -0.010063846073757432, -0.012619776180628484, -0.013637684643954762, 0.011947154015899297, 0.06856605104266222, 0.07822002213806178, 0.0542492615998722, -0.01393522789503232, -0.005168797946086601, -0.011588138788986457, 0.05251503144046077, 0.06240667433279534, 0.04605952060060514, 0.007435403028129173, -0.0033715425916018837, -0.0020854820778132277, 0.010865274159656768, 0.008456544389622622, -0.004297537949960684, -0.002997223147220285, 0.0003781837506627861, 0.0035951666670689386, 0.012787846316773765, 0.009678971538175873, -0.006851511177997871, -0.010355492358676832, 0.0014952387368828424, 0.05754538383727825, 0.07690204901581621, 0.06157810037725764, 0.007828011444486638, -0.007292966801427325, -0.016396318639788854, -0.00924801287635968, 0.05545599162056636, 0.07269936088677631, 0.0687818936163358, 0.0055189728187720055, -0.009748191589533106, -0.007300507862967098, 0.0011479664832383385, 0.004721174609883638]\n",
            "Local maxima: [0.00820576338446699, -0.0002654340642038733, 0.009408167933543155, 0.1624113676651766, -0.004110293796408926, 0.07429704576644769, 0.09057446068909769, 0.03432945578272106, 0.08258828229287951, 0.0025093611505687674, 0.008284562462800626, 0.016288596217010953, -2.91303915656016e-07, 0.014674040432022362, 0.07449433447341436, 0.038292022362579115, 0.01824559977793805, 0.0037501607863822395, 0.12070884737501753, 0.0012850437443822083, 0.07735616453516225, 0.02628726794079317, 0.050567366416492954, 0.07822002213806178, -0.005168797946086601, 0.06240667433279534, 0.010865274159656768, 0.012787846316773765, 0.07690204901581621, 0.07269936088677631]\n",
            "Number of local maxima : 30\n",
            "Filtered LOCAL_MAXIMA_INDICES:\n",
            "[0, 2, 3, 5, 6, 7, 8, 10, 11, 13, 14, 15, 16, 18, 20, 21, 22, 23, 25, 26, 27, 28, 29]\n",
            "Filtered LOCAL_MAXIMA_VALUES:\n",
            "[0.00820576338446699, 0.009408167933543155, 0.1624113676651766, 0.07429704576644769, 0.09057446068909769, 0.03432945578272106, 0.08258828229287951, 0.008284562462800626, 0.016288596217010953, 0.014674040432022362, 0.07449433447341436, 0.038292022362579115, 0.01824559977793805, 0.12070884737501753, 0.07735616453516225, 0.02628726794079317, 0.050567366416492954, 0.07822002213806178, 0.06240667433279534, 0.010865274159656768, 0.012787846316773765, 0.07690204901581621, 0.07269936088677631]\n"
          ]
        }
      ]
    },
    {
      "cell_type": "markdown",
      "source": [
        "### Need to figure out if the given segments are giving actual topic changes or how do we backtrack the local maxima indices to actual sentences."
      ],
      "metadata": {
        "id": "N9xctx3mArO_"
      }
    },
    {
      "cell_type": "markdown",
      "source": [
        "End of unpacking the function topic_segmentation_bert()"
      ],
      "metadata": {
        "id": "QoxDqw6Wdvga"
      }
    },
    {
      "cell_type": "markdown",
      "source": [
        "### Creating binary code of the segments found"
      ],
      "metadata": {
        "id": "gI6RCtyFd3Vb"
      }
    },
    {
      "cell_type": "code",
      "source": [
        "#this is to offset the indices by k in actual data corpus we have\n",
        "#since we start to get the values for depth score for a window of size k, ending at kth element in block comparison (windows)\n",
        "#example: we get the first score only at 5th element, then at 6th element all the way to (n-k)th element.\n",
        "offset = k\n",
        "actual_sentence_indices = []\n",
        "for idx, score in enumerate(depth_score_timeseries):\n",
        "  if score in local_maxima:\n",
        "    actual_sentence_indices.append(idx + offset)\n"
      ],
      "metadata": {
        "id": "nIiyQBFwgnPe"
      },
      "execution_count": 42,
      "outputs": []
    },
    {
      "cell_type": "code",
      "source": [
        "actual_sentence_indices"
      ],
      "metadata": {
        "colab": {
          "base_uri": "https://localhost:8080/"
        },
        "id": "O0IYlbwnjoSn",
        "outputId": "0a22f37e-14f1-41e0-f523-5a840d8fc66b"
      },
      "execution_count": 43,
      "outputs": [
        {
          "output_type": "execute_result",
          "data": {
            "text/plain": [
              "[13,\n",
              " 20,\n",
              " 25,\n",
              " 38,\n",
              " 41,\n",
              " 47,\n",
              " 56,\n",
              " 64,\n",
              " 67,\n",
              " 73,\n",
              " 76,\n",
              " 81,\n",
              " 86,\n",
              " 100,\n",
              " 112,\n",
              " 116,\n",
              " 124,\n",
              " 133,\n",
              " 139,\n",
              " 144,\n",
              " 150,\n",
              " 156,\n",
              " 163]"
            ]
          },
          "metadata": {},
          "execution_count": 43
        }
      ]
    },
    {
      "cell_type": "code",
      "source": [
        "# we need to convert from topic changes indexes to topic changes binaries\n",
        "predicted_segmentation = [0] * len(corpus)\n",
        "for idx in actual_sentence_indices:\n",
        "    predicted_segmentation[idx] = 1\n",
        "\n",
        "print(predicted_segmentation)"
      ],
      "metadata": {
        "colab": {
          "base_uri": "https://localhost:8080/"
        },
        "id": "No0pt07SjuqY",
        "outputId": "8388964a-abee-4d6e-e583-f33702ee2e3e"
      },
      "execution_count": 44,
      "outputs": [
        {
          "output_type": "stream",
          "name": "stdout",
          "text": [
            "[0, 0, 0, 0, 0, 0, 0, 0, 0, 0, 0, 0, 0, 1, 0, 0, 0, 0, 0, 0, 1, 0, 0, 0, 0, 1, 0, 0, 0, 0, 0, 0, 0, 0, 0, 0, 0, 0, 1, 0, 0, 1, 0, 0, 0, 0, 0, 1, 0, 0, 0, 0, 0, 0, 0, 0, 1, 0, 0, 0, 0, 0, 0, 0, 1, 0, 0, 1, 0, 0, 0, 0, 0, 1, 0, 0, 1, 0, 0, 0, 0, 1, 0, 0, 0, 0, 1, 0, 0, 0, 0, 0, 0, 0, 0, 0, 0, 0, 0, 0, 1, 0, 0, 0, 0, 0, 0, 0, 0, 0, 0, 0, 1, 0, 0, 0, 1, 0, 0, 0, 0, 0, 0, 0, 1, 0, 0, 0, 0, 0, 0, 0, 0, 1, 0, 0, 0, 0, 0, 1, 0, 0, 0, 0, 1, 0, 0, 0, 0, 0, 1, 0, 0, 0, 0, 0, 1, 0, 0, 0, 0, 0, 0, 1, 0, 0, 0, 0, 0, 0, 0, 0, 0, 0, 0, 0, 0]\n"
          ]
        }
      ]
    },
    {
      "cell_type": "markdown",
      "source": [
        "### Save the segmentation in a text file with annotations"
      ],
      "metadata": {
        "id": "WNmdao3NkZcE"
      }
    },
    {
      "cell_type": "code",
      "source": [
        "file_name = 'segmented_text.txt'\n",
        "file1  = open(file_name, \"w\")\n",
        "for idx, sentence in enumerate(corpus):\n",
        "  if idx in actual_sentence_indices:\n",
        "    file1.write(\"\\n\\n-----------------------------<SEGMENT>--------------------------\\n\\n\")\n",
        "  file1.write(sentence)\n",
        "file1.close()"
      ],
      "metadata": {
        "id": "AxZaEjX1kY5s"
      },
      "execution_count": 45,
      "outputs": []
    },
    {
      "cell_type": "markdown",
      "source": [
        "## Compare the result with the ground truth"
      ],
      "metadata": {
        "id": "rngirhRxpBQi"
      }
    },
    {
      "cell_type": "code",
      "source": [
        "section_indices_ground"
      ],
      "metadata": {
        "colab": {
          "base_uri": "https://localhost:8080/"
        },
        "id": "ziDAsk9xpArG",
        "outputId": "2b243c78-0233-4b1f-cb11-1a0b32804db4"
      },
      "execution_count": 37,
      "outputs": [
        {
          "output_type": "execute_result",
          "data": {
            "text/plain": [
              "[9,\n",
              " 25,\n",
              " 36,\n",
              " 61,\n",
              " 64,\n",
              " 76,\n",
              " 78,\n",
              " 81,\n",
              " 99,\n",
              " 112,\n",
              " 116,\n",
              " 122,\n",
              " 133,\n",
              " 139,\n",
              " 143,\n",
              " 146,\n",
              " 148,\n",
              " 150,\n",
              " 152,\n",
              " 155,\n",
              " 157,\n",
              " 162,\n",
              " 170,\n",
              " 176]"
            ]
          },
          "metadata": {},
          "execution_count": 37
        }
      ]
    }
  ]
}